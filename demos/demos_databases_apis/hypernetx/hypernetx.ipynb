{
 "cells": [
  {
   "cell_type": "code",
   "execution_count": 36,
   "metadata": {
    "colab": {},
    "colab_type": "code",
    "id": "vbeJWufvVTFh"
   },
   "outputs": [],
   "source": [
    "import pandas as pd\n",
    "import graphistry\n",
    "\n",
    "class HyperNetXG:\n",
    "  \n",
    "    def __init__(self, graphistry):\n",
    "        self.graphistry = graphistry      \n",
    "\n",
    "    def hypernetx_to_graphistry_bipartite(self, H):\n",
    "\n",
    "        nodes_df = pd.concat(\n",
    "            [pd.DataFrame({\n",
    "                'node': [x[\"node\"] for x in H[\"nodes\"]], \n",
    "                'type': 'hypernode'}),\n",
    "             pd.DataFrame({\n",
    "                 'node': [x[\"edge\"] for x in H[\"edges\"]], \n",
    "                 'type': 'hyperedge'})],\n",
    "            ignore_index=True,\n",
    "            sort=False)\n",
    "\n",
    "        edges_df = pd.concat(\n",
    "            [ pd.DataFrame({'src': [], 'dst': []}) ] + \n",
    "            [\n",
    "                pd.DataFrame({\n",
    "                    'src': k,\n",
    "                    'dst': [x[\"node\"] for x in H[\"incidences\"] if x[\"edge\"] == k]\n",
    "                })\n",
    "                for k in {x[\"edge\"] for x in H[\"incidences\"]}\n",
    "            ], ignore_index=True, sort=False)\n",
    "\n",
    "        return self.graphistry.bind(\n",
    "              source='src', \n",
    "              destination='dst', \n",
    "              node='node').nodes(nodes_df).edges(edges_df)\n",
    "\n",
    "\n",
    "hg = HyperNetXG(graphistry)"
   ]
  },
  {
   "cell_type": "code",
   "execution_count": 33,
   "metadata": {
    "colab": {},
    "colab_type": "code",
    "id": "sm45TNKMOEZn"
   },
   "outputs": [],
   "source": [
    "import json\n",
    "\n",
    "with open(\"e-coli.json\") as file:\n",
    "    H = json.load(file)"
   ]
  },
  {
   "cell_type": "code",
   "execution_count": 37,
   "metadata": {
    "colab": {
     "base_uri": "https://localhost:8080/",
     "height": 142
    },
    "colab_type": "code",
    "id": "DQzE4f5zeGDn",
    "outputId": "c8f6fb31-0bf5-4547-cdc9-7e0e75c512cf"
   },
   "outputs": [
    {
     "data": {
      "text/html": [
       "<div>\n",
       "<style scoped>\n",
       "    .dataframe tbody tr th:only-of-type {\n",
       "        vertical-align: middle;\n",
       "    }\n",
       "\n",
       "    .dataframe tbody tr th {\n",
       "        vertical-align: top;\n",
       "    }\n",
       "\n",
       "    .dataframe thead th {\n",
       "        text-align: right;\n",
       "    }\n",
       "</style>\n",
       "<table border=\"1\" class=\"dataframe\">\n",
       "  <thead>\n",
       "    <tr style=\"text-align: right;\">\n",
       "      <th></th>\n",
       "      <th>node</th>\n",
       "      <th>type</th>\n",
       "    </tr>\n",
       "  </thead>\n",
       "  <tbody>\n",
       "    <tr>\n",
       "      <th>57</th>\n",
       "      <td>h2o_c</td>\n",
       "      <td>hypernode</td>\n",
       "    </tr>\n",
       "    <tr>\n",
       "      <th>24</th>\n",
       "      <td>gln__L_e</td>\n",
       "      <td>hypernode</td>\n",
       "    </tr>\n",
       "    <tr>\n",
       "      <th>174</th>\n",
       "      <td>TKT2</td>\n",
       "      <td>hyperedge</td>\n",
       "    </tr>\n",
       "  </tbody>\n",
       "</table>\n",
       "</div>"
      ],
      "text/plain": [
       "         node       type\n",
       "57      h2o_c  hypernode\n",
       "24   gln__L_e  hypernode\n",
       "174      TKT2  hyperedge"
      ]
     },
     "execution_count": 37,
     "metadata": {},
     "output_type": "execute_result"
    }
   ],
   "source": [
    "g = hg.hypernetx_to_graphistry_bipartite(H)\n",
    "g._nodes.sample(3)"
   ]
  },
  {
   "cell_type": "code",
   "execution_count": 38,
   "metadata": {
    "colab": {
     "base_uri": "https://localhost:8080/",
     "height": 142
    },
    "colab_type": "code",
    "id": "o7pUj8rfeuB_",
    "outputId": "1d0c796f-b468-4285-e64b-e1188eacb61f"
   },
   "outputs": [
    {
     "data": {
      "text/html": [
       "<div>\n",
       "<style scoped>\n",
       "    .dataframe tbody tr th:only-of-type {\n",
       "        vertical-align: middle;\n",
       "    }\n",
       "\n",
       "    .dataframe tbody tr th {\n",
       "        vertical-align: top;\n",
       "    }\n",
       "\n",
       "    .dataframe thead th {\n",
       "        text-align: right;\n",
       "    }\n",
       "</style>\n",
       "<table border=\"1\" class=\"dataframe\">\n",
       "  <thead>\n",
       "    <tr style=\"text-align: right;\">\n",
       "      <th></th>\n",
       "      <th>src</th>\n",
       "      <th>dst</th>\n",
       "    </tr>\n",
       "  </thead>\n",
       "  <tbody>\n",
       "    <tr>\n",
       "      <th>404</th>\n",
       "      <td>PIt2r</td>\n",
       "      <td>pi_c</td>\n",
       "    </tr>\n",
       "    <tr>\n",
       "      <th>405</th>\n",
       "      <td>CO2t_reverse</td>\n",
       "      <td>co2_c</td>\n",
       "    </tr>\n",
       "    <tr>\n",
       "      <th>493</th>\n",
       "      <td>ENO_reverse</td>\n",
       "      <td>2pg_c</td>\n",
       "    </tr>\n",
       "  </tbody>\n",
       "</table>\n",
       "</div>"
      ],
      "text/plain": [
       "              src    dst\n",
       "404         PIt2r   pi_c\n",
       "405  CO2t_reverse  co2_c\n",
       "493   ENO_reverse  2pg_c"
      ]
     },
     "execution_count": 38,
     "metadata": {},
     "output_type": "execute_result"
    }
   ],
   "source": [
    "g._edges.sample(3)"
   ]
  }
 ],
 "metadata": {
  "colab": {
   "collapsed_sections": [],
   "name": "hypernetx",
   "provenance": [],
   "version": "0.3.2"
  },
  "kernelspec": {
   "display_name": "rapids-24.12",
   "language": "python",
   "name": "python3"
  },
  "language_info": {
   "codemirror_mode": {
    "name": "ipython",
    "version": 3
   },
   "file_extension": ".py",
   "mimetype": "text/x-python",
   "name": "python",
   "nbconvert_exporter": "python",
   "pygments_lexer": "ipython3",
   "version": "3.12.8"
  }
 },
 "nbformat": 4,
 "nbformat_minor": 1
}
